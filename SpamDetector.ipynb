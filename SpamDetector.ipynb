{
 "cells": [
  {
   "cell_type": "code",
   "execution_count": 3,
   "id": "98f09c80-f584-4875-94f9-1c150b5a3ea0",
   "metadata": {},
   "outputs": [],
   "source": [
    "import numpy as np\n",
    "import pandas as pd\n",
    "from nltk.tokenize import RegexpTokenizer\n",
    "from nltk.stem import PorterStemmer\n",
    "from nltk.corpus import stopwords\n",
    "from sklearn.preprocessing import LabelEncoder\n",
    "from sklearn.feature_extraction.text import CountVectorizer\n",
    "from sklearn.model_selection import train_test_split"
   ]
  },
  {
   "cell_type": "code",
   "execution_count": 4,
   "id": "cbefb000-2c16-4a5e-8daf-4c0a4a9bae08",
   "metadata": {},
   "outputs": [
    {
     "data": {
      "text/html": [
       "<div>\n",
       "<style scoped>\n",
       "    .dataframe tbody tr th:only-of-type {\n",
       "        vertical-align: middle;\n",
       "    }\n",
       "\n",
       "    .dataframe tbody tr th {\n",
       "        vertical-align: top;\n",
       "    }\n",
       "\n",
       "    .dataframe thead th {\n",
       "        text-align: right;\n",
       "    }\n",
       "</style>\n",
       "<table border=\"1\" class=\"dataframe\">\n",
       "  <thead>\n",
       "    <tr style=\"text-align: right;\">\n",
       "      <th></th>\n",
       "      <th>v1</th>\n",
       "      <th>v2</th>\n",
       "      <th>Unnamed: 2</th>\n",
       "      <th>Unnamed: 3</th>\n",
       "      <th>Unnamed: 4</th>\n",
       "    </tr>\n",
       "  </thead>\n",
       "  <tbody>\n",
       "    <tr>\n",
       "      <th>0</th>\n",
       "      <td>ham</td>\n",
       "      <td>Go until jurong point, crazy.. Available only ...</td>\n",
       "      <td>NaN</td>\n",
       "      <td>NaN</td>\n",
       "      <td>NaN</td>\n",
       "    </tr>\n",
       "    <tr>\n",
       "      <th>1</th>\n",
       "      <td>ham</td>\n",
       "      <td>Ok lar... Joking wif u oni...</td>\n",
       "      <td>NaN</td>\n",
       "      <td>NaN</td>\n",
       "      <td>NaN</td>\n",
       "    </tr>\n",
       "    <tr>\n",
       "      <th>2</th>\n",
       "      <td>spam</td>\n",
       "      <td>Free entry in 2 a wkly comp to win FA Cup fina...</td>\n",
       "      <td>NaN</td>\n",
       "      <td>NaN</td>\n",
       "      <td>NaN</td>\n",
       "    </tr>\n",
       "    <tr>\n",
       "      <th>3</th>\n",
       "      <td>ham</td>\n",
       "      <td>U dun say so early hor... U c already then say...</td>\n",
       "      <td>NaN</td>\n",
       "      <td>NaN</td>\n",
       "      <td>NaN</td>\n",
       "    </tr>\n",
       "    <tr>\n",
       "      <th>4</th>\n",
       "      <td>ham</td>\n",
       "      <td>Nah I don't think he goes to usf, he lives aro...</td>\n",
       "      <td>NaN</td>\n",
       "      <td>NaN</td>\n",
       "      <td>NaN</td>\n",
       "    </tr>\n",
       "  </tbody>\n",
       "</table>\n",
       "</div>"
      ],
      "text/plain": [
       "     v1                                                 v2 Unnamed: 2  \\\n",
       "0   ham  Go until jurong point, crazy.. Available only ...        NaN   \n",
       "1   ham                      Ok lar... Joking wif u oni...        NaN   \n",
       "2  spam  Free entry in 2 a wkly comp to win FA Cup fina...        NaN   \n",
       "3   ham  U dun say so early hor... U c already then say...        NaN   \n",
       "4   ham  Nah I don't think he goes to usf, he lives aro...        NaN   \n",
       "\n",
       "  Unnamed: 3 Unnamed: 4  \n",
       "0        NaN        NaN  \n",
       "1        NaN        NaN  \n",
       "2        NaN        NaN  \n",
       "3        NaN        NaN  \n",
       "4        NaN        NaN  "
      ]
     },
     "execution_count": 4,
     "metadata": {},
     "output_type": "execute_result"
    }
   ],
   "source": [
    "### use mushroom database\n",
    "df = pd.read_csv(\"datasets/spam.csv\", encoding='ISO-8859-1')\n",
    "df.head()"
   ]
  },
  {
   "cell_type": "code",
   "execution_count": 5,
   "id": "f6c114cb-753a-4743-9d13-4f99ee744699",
   "metadata": {},
   "outputs": [
    {
     "data": {
      "text/plain": [
       "array([['ham',\n",
       "        'Go until jurong point, crazy.. Available only in bugis n great world la e buffet... Cine there got amore wat...',\n",
       "        nan, nan, nan],\n",
       "       ['ham', 'Ok lar... Joking wif u oni...', nan, nan, nan],\n",
       "       ['spam',\n",
       "        \"Free entry in 2 a wkly comp to win FA Cup final tkts 21st May 2005. Text FA to 87121 to receive entry question(std txt rate)T&C's apply 08452810075over18's\",\n",
       "        nan, nan, nan],\n",
       "       ...,\n",
       "       ['ham',\n",
       "        'Pity, * was in mood for that. So...any other suggestions?', nan,\n",
       "        nan, nan],\n",
       "       ['ham',\n",
       "        \"The guy did some bitching but I acted like i'd be interested in buying something else next week and he gave it to us for free\",\n",
       "        nan, nan, nan],\n",
       "       ['ham', 'Rofl. Its true to its name', nan, nan, nan]], dtype=object)"
      ]
     },
     "execution_count": 5,
     "metadata": {},
     "output_type": "execute_result"
    }
   ],
   "source": [
    "data = df.to_numpy()\n",
    "data"
   ]
  },
  {
   "cell_type": "code",
   "execution_count": 7,
   "id": "b0a0efb6-c2b8-409c-a72a-e3699a3cb61a",
   "metadata": {},
   "outputs": [
    {
     "data": {
      "text/plain": [
       "((5572,), (5572,))"
      ]
     },
     "execution_count": 7,
     "metadata": {},
     "output_type": "execute_result"
    }
   ],
   "source": [
    "x = data[:, 1]\n",
    "y = data[:, 0]\n",
    "x.shape, y.shape"
   ]
  },
  {
   "cell_type": "code",
   "execution_count": 8,
   "id": "458317d3-e60b-41eb-81d4-ddd2ea5e32fd",
   "metadata": {},
   "outputs": [],
   "source": [
    "tokenizer = RegexpTokenizer('\\w+')\n",
    "sw = set(stopwords.words('english'))\n",
    "ps = PorterStemmer()"
   ]
  },
  {
   "cell_type": "code",
   "execution_count": 9,
   "id": "e2a71183-6d4f-46cb-bb9e-688cff2c46e1",
   "metadata": {},
   "outputs": [],
   "source": [
    "def getStem(review):\n",
    "    review = review.lower()\n",
    "    tokens =tokenizer.tokenize(review) # breaking into small words\n",
    "    remove_stpwrds = [w for w in tokens if w not in sw]\n",
    "    stemmed_wrds = [ps.stem(token) for token in remove_stpwrds]\n",
    "    clean_review = ' '.join(stemmed_wrds)\n",
    "    return clean_review"
   ]
  },
  {
   "cell_type": "code",
   "execution_count": 10,
   "id": "994ece9c-37ce-4ff2-9453-f1e72dd1f9e9",
   "metadata": {},
   "outputs": [],
   "source": [
    "# get a clean document\n",
    "def getDoc(document):\n",
    "    d = []\n",
    "    for sentence in document:\n",
    "        d.append(getStem(sentence))\n",
    "    return d"
   ]
  },
  {
   "cell_type": "code",
   "execution_count": 11,
   "id": "101821a2-c13e-41d6-a8a8-214a760d703d",
   "metadata": {},
   "outputs": [],
   "source": [
    "stemmed_doc = getDoc(x)"
   ]
  },
  {
   "cell_type": "code",
   "execution_count": 13,
   "id": "21614813-21df-4c43-b016-96925b1301ac",
   "metadata": {},
   "outputs": [
    {
     "data": {
      "text/plain": [
       "['go jurong point crazi avail bugi n great world la e buffet cine got amor wat',\n",
       " 'ok lar joke wif u oni',\n",
       " 'free entri 2 wkli comp win fa cup final tkt 21st may 2005 text fa 87121 receiv entri question std txt rate c appli 08452810075over18',\n",
       " 'u dun say earli hor u c alreadi say',\n",
       " 'nah think goe usf live around though',\n",
       " 'freemsg hey darl 3 week word back like fun still tb ok xxx std chg send å 1 50 rcv',\n",
       " 'even brother like speak treat like aid patent',\n",
       " 'per request mell mell oru minnaminungint nurungu vettam set callertun caller press 9 copi friend callertun',\n",
       " 'winner valu network custom select receivea å 900 prize reward claim call 09061701461 claim code kl341 valid 12 hour',\n",
       " 'mobil 11 month u r entitl updat latest colour mobil camera free call mobil updat co free 08002986030']"
      ]
     },
     "execution_count": 13,
     "metadata": {},
     "output_type": "execute_result"
    }
   ],
   "source": [
    "stemmed_doc[:10]"
   ]
  },
  {
   "cell_type": "code",
   "execution_count": 15,
   "id": "81a36940-6a25-48e5-a0df-ff6d4ec6c265",
   "metadata": {},
   "outputs": [],
   "source": [
    "cv = CountVectorizer()\n",
    "\n",
    "#create my vocab\n",
    "vc = cv.fit_transform(stemmed_doc)\n",
    "x = vc.todense()\n",
    "\n",
    "# train test split\n",
    "x_train, x_test, y_train,y_test = train_test_split(x, y, random_state=42, test_size=0.33)\n"
   ]
  },
  {
   "cell_type": "code",
   "execution_count": 16,
   "id": "a2d1a081-de76-49fc-9fba-4632b706381b",
   "metadata": {},
   "outputs": [
    {
     "data": {
      "text/plain": [
       "0.977705274605764"
      ]
     },
     "execution_count": 16,
     "metadata": {},
     "output_type": "execute_result"
    }
   ],
   "source": [
    "# NB from sklearn\n",
    "from sklearn.naive_bayes import MultinomialNB\n",
    "model = MultinomialNB()\n",
    "model.fit(x_train, y_train)\n",
    "model.score(x_test, y_test)"
   ]
  },
  {
   "cell_type": "code",
   "execution_count": 18,
   "id": "fbd71bb3-6d55-4c8c-90ed-9280f9bb570b",
   "metadata": {},
   "outputs": [],
   "source": [
    "messages = [\n",
    "    \"\"\"\n",
    "        Really. The last 18 months have been rough on all of us. Unemployment and erosion in savings have led to somewhat economic turmoil & unnecessary stress. But in the case of students, it has to do a lot with uncertainty. \n",
    "        What next? What's ahead? What should I do? How can I make myself emerge as my best version post-pandemic? We get that a lot. And in such times, we are doing our bit of bringing in some stability & light at the end of the tunnel by offering GATE scholarships up to ₹30 lakhs to deserving students like you.\n",
    "        We'd absolutely love it if as many students as possible took our GATE Scholarship Test on the 25'th of July & claim it all. Including you. Just by registering yourself here (Takes less than 10 seconds), take charge of the future you deserve.\n",
    "        Abhijit Nath,    Program Manager, Vidyalankar Infinite.\"\"\",\n",
    "    \n",
    "    \"\"\"\n",
    "        Yocket\n",
    "        Greetings from Yocket and StupidSid!\n",
    "        We trust that you're doing well and staying safe during these troubled times.\n",
    "        If you have loved using either one or both the platforms, we have some exciting news for you!!\n",
    "        As you know, StupidSid and Yocket strive to help students and currently we’ve 500,000 users on Yocket.\n",
    "        We trust you had a good experience with us in the past. Since you know what we offer as a platform for students, how about getting to know how we work internally and help students just like you and aspirants who wish to study abroad? \n",
    "        If you are someone who believes in the power of technology and likes to challenge traditional ways of working, then Yocket is the place to be! Join our young and dynamic team in this journey to becoming a great company with jolly employees!\n",
    "        We are currently hiring in:- Technology, Marketing, Sales, Counseling and many more…\n",
    "\"\"\",\n",
    "    \n",
    "    \"\"\"This mail is to inform you regarding Placement training.\n",
    "        Schedule for Batch Number - 02\n",
    "        Session Details are as follows\n",
    "        ·       Title - PICT - Batch 02 - Aptitude Session - 02\n",
    "        ·       Date & Time - Jul 21, 2021 03:00 PM India\n",
    "        ·       Link - https://us02web.zoom.us/meeting/register/tZMtcuCvqjwuEtAcwDALnUScrl1IZ7_aj_4j\n",
    "        Note:\n",
    "        •        All the students are requested to register in advance for the meeting.\n",
    "        •        After registering, students will receive a confirmation email containing information about joining the meeting.\n",
    "        •        CC ID is compulsory to be there in username. \n",
    "        •        IF THE NAME OR USER ID IS NOT IN THE FORMAT (CC ID_YOUR NAME) THEN ATTENDANCE FOR THAT STUDENT WILL NOT BE CONSIDERED.\"\"\"\n",
    "\n",
    "]"
   ]
  },
  {
   "cell_type": "code",
   "execution_count": 20,
   "id": "d5bac752-4655-47ef-a66d-2a9609b5814d",
   "metadata": {},
   "outputs": [],
   "source": [
    "def prepare(messages) :\n",
    "    d = getDoc(messages)\n",
    "    ## don't do fit_transform ! \n",
    "    ## it will create the new VOCAB\n",
    "    return cv.transform(d)\n",
    "\n",
    "messages = prepare(messages)"
   ]
  },
  {
   "cell_type": "code",
   "execution_count": 22,
   "id": "940ac35b-f8f3-4755-933f-c4530b0543dd",
   "metadata": {},
   "outputs": [
    {
     "data": {
      "text/plain": [
       "array(['ham', 'ham', 'spam'], dtype='<U4')"
      ]
     },
     "execution_count": 22,
     "metadata": {},
     "output_type": "execute_result"
    }
   ],
   "source": [
    "y_pred = model.predict(messages)\n",
    "y_pred"
   ]
  },
  {
   "cell_type": "code",
   "execution_count": null,
   "id": "4cecc166-7d8f-401d-9ca6-c529a78035b3",
   "metadata": {},
   "outputs": [],
   "source": []
  }
 ],
 "metadata": {
  "kernelspec": {
   "display_name": "Python 3",
   "language": "python",
   "name": "python3"
  },
  "language_info": {
   "codemirror_mode": {
    "name": "ipython",
    "version": 3
   },
   "file_extension": ".py",
   "mimetype": "text/x-python",
   "name": "python",
   "nbconvert_exporter": "python",
   "pygments_lexer": "ipython3",
   "version": "3.8.10"
  }
 },
 "nbformat": 4,
 "nbformat_minor": 5
}
